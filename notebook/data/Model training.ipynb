{
 "cells": [
  {
   "cell_type": "code",
   "execution_count": 1,
   "metadata": {},
   "outputs": [],
   "source": [
    "# Basic model\n",
    "import numpy as np\n",
    "import pandas as pd\n",
    "import matplotlib.pyplot as plt\n",
    "import seaborn as sns\n",
    "# Modelling\n",
    "from sklearn.metrics import mean_squared_error\n",
    "from sklearn.neighbors import KNeighborsRegressor\n",
    "from sklearn.tree import DecisionTreeRegressor\n",
    "from sklearn.ensemble import RandomForestRegressor,AdaBoostRegressor\n",
    "from sklearn.svm import SVR\n",
    "from sklearn.linear_model import LinearRegression,Ridge,Lasso\n",
    "from sklearn.metrics import r2_score, mean_absolute_error, mean_squared_error\n",
    "from sklearn.model_selection import RandomizedSearchCV\n",
    "from catboost import CatBoostRegressor\n",
    "from xgboost import XGBRegressor\n",
    "import warnings"
   ]
  },
  {
   "cell_type": "code",
   "execution_count": 2,
   "metadata": {},
   "outputs": [],
   "source": [
    "df = pd.read_csv('stud.csv')"
   ]
  },
  {
   "cell_type": "code",
   "execution_count": 3,
   "metadata": {},
   "outputs": [
    {
     "data": {
      "text/html": [
       "<div>\n",
       "<style scoped>\n",
       "    .dataframe tbody tr th:only-of-type {\n",
       "        vertical-align: middle;\n",
       "    }\n",
       "\n",
       "    .dataframe tbody tr th {\n",
       "        vertical-align: top;\n",
       "    }\n",
       "\n",
       "    .dataframe thead th {\n",
       "        text-align: right;\n",
       "    }\n",
       "</style>\n",
       "<table border=\"1\" class=\"dataframe\">\n",
       "  <thead>\n",
       "    <tr style=\"text-align: right;\">\n",
       "      <th></th>\n",
       "      <th>gender</th>\n",
       "      <th>race_ethnicity</th>\n",
       "      <th>parental_level_of_education</th>\n",
       "      <th>lunch</th>\n",
       "      <th>test_preparation_course</th>\n",
       "      <th>math_score</th>\n",
       "      <th>reading_score</th>\n",
       "      <th>writing_score</th>\n",
       "    </tr>\n",
       "  </thead>\n",
       "  <tbody>\n",
       "    <tr>\n",
       "      <th>0</th>\n",
       "      <td>female</td>\n",
       "      <td>group B</td>\n",
       "      <td>bachelor's degree</td>\n",
       "      <td>standard</td>\n",
       "      <td>none</td>\n",
       "      <td>72</td>\n",
       "      <td>72</td>\n",
       "      <td>74</td>\n",
       "    </tr>\n",
       "    <tr>\n",
       "      <th>1</th>\n",
       "      <td>female</td>\n",
       "      <td>group C</td>\n",
       "      <td>some college</td>\n",
       "      <td>standard</td>\n",
       "      <td>completed</td>\n",
       "      <td>69</td>\n",
       "      <td>90</td>\n",
       "      <td>88</td>\n",
       "    </tr>\n",
       "    <tr>\n",
       "      <th>2</th>\n",
       "      <td>female</td>\n",
       "      <td>group B</td>\n",
       "      <td>master's degree</td>\n",
       "      <td>standard</td>\n",
       "      <td>none</td>\n",
       "      <td>90</td>\n",
       "      <td>95</td>\n",
       "      <td>93</td>\n",
       "    </tr>\n",
       "    <tr>\n",
       "      <th>3</th>\n",
       "      <td>male</td>\n",
       "      <td>group A</td>\n",
       "      <td>associate's degree</td>\n",
       "      <td>free/reduced</td>\n",
       "      <td>none</td>\n",
       "      <td>47</td>\n",
       "      <td>57</td>\n",
       "      <td>44</td>\n",
       "    </tr>\n",
       "    <tr>\n",
       "      <th>4</th>\n",
       "      <td>male</td>\n",
       "      <td>group C</td>\n",
       "      <td>some college</td>\n",
       "      <td>standard</td>\n",
       "      <td>none</td>\n",
       "      <td>76</td>\n",
       "      <td>78</td>\n",
       "      <td>75</td>\n",
       "    </tr>\n",
       "  </tbody>\n",
       "</table>\n",
       "</div>"
      ],
      "text/plain": [
       "   gender race_ethnicity parental_level_of_education         lunch  \\\n",
       "0  female        group B           bachelor's degree      standard   \n",
       "1  female        group C                some college      standard   \n",
       "2  female        group B             master's degree      standard   \n",
       "3    male        group A          associate's degree  free/reduced   \n",
       "4    male        group C                some college      standard   \n",
       "\n",
       "  test_preparation_course  math_score  reading_score  writing_score  \n",
       "0                    none          72             72             74  \n",
       "1               completed          69             90             88  \n",
       "2                    none          90             95             93  \n",
       "3                    none          47             57             44  \n",
       "4                    none          76             78             75  "
      ]
     },
     "execution_count": 3,
     "metadata": {},
     "output_type": "execute_result"
    }
   ],
   "source": [
    "df.head()"
   ]
  },
  {
   "cell_type": "code",
   "execution_count": 4,
   "metadata": {},
   "outputs": [],
   "source": [
    "x = df.drop(columns=['math_score'],axis=1)"
   ]
  },
  {
   "cell_type": "code",
   "execution_count": 5,
   "metadata": {},
   "outputs": [
    {
     "data": {
      "text/html": [
       "<div>\n",
       "<style scoped>\n",
       "    .dataframe tbody tr th:only-of-type {\n",
       "        vertical-align: middle;\n",
       "    }\n",
       "\n",
       "    .dataframe tbody tr th {\n",
       "        vertical-align: top;\n",
       "    }\n",
       "\n",
       "    .dataframe thead th {\n",
       "        text-align: right;\n",
       "    }\n",
       "</style>\n",
       "<table border=\"1\" class=\"dataframe\">\n",
       "  <thead>\n",
       "    <tr style=\"text-align: right;\">\n",
       "      <th></th>\n",
       "      <th>gender</th>\n",
       "      <th>race_ethnicity</th>\n",
       "      <th>parental_level_of_education</th>\n",
       "      <th>lunch</th>\n",
       "      <th>test_preparation_course</th>\n",
       "      <th>reading_score</th>\n",
       "      <th>writing_score</th>\n",
       "    </tr>\n",
       "  </thead>\n",
       "  <tbody>\n",
       "    <tr>\n",
       "      <th>0</th>\n",
       "      <td>female</td>\n",
       "      <td>group B</td>\n",
       "      <td>bachelor's degree</td>\n",
       "      <td>standard</td>\n",
       "      <td>none</td>\n",
       "      <td>72</td>\n",
       "      <td>74</td>\n",
       "    </tr>\n",
       "    <tr>\n",
       "      <th>1</th>\n",
       "      <td>female</td>\n",
       "      <td>group C</td>\n",
       "      <td>some college</td>\n",
       "      <td>standard</td>\n",
       "      <td>completed</td>\n",
       "      <td>90</td>\n",
       "      <td>88</td>\n",
       "    </tr>\n",
       "  </tbody>\n",
       "</table>\n",
       "</div>"
      ],
      "text/plain": [
       "   gender race_ethnicity parental_level_of_education     lunch  \\\n",
       "0  female        group B           bachelor's degree  standard   \n",
       "1  female        group C                some college  standard   \n",
       "\n",
       "  test_preparation_course  reading_score  writing_score  \n",
       "0                    none             72             74  \n",
       "1               completed             90             88  "
      ]
     },
     "execution_count": 5,
     "metadata": {},
     "output_type": "execute_result"
    }
   ],
   "source": [
    "x.head(2)"
   ]
  },
  {
   "cell_type": "code",
   "execution_count": 6,
   "metadata": {},
   "outputs": [],
   "source": [
    "y = df['math_score']"
   ]
  },
  {
   "cell_type": "code",
   "execution_count": 7,
   "metadata": {},
   "outputs": [
    {
     "data": {
      "text/plain": [
       "0      72\n",
       "1      69\n",
       "2      90\n",
       "3      47\n",
       "4      76\n",
       "       ..\n",
       "995    88\n",
       "996    62\n",
       "997    59\n",
       "998    68\n",
       "999    77\n",
       "Name: math_score, Length: 1000, dtype: int64"
      ]
     },
     "execution_count": 7,
     "metadata": {},
     "output_type": "execute_result"
    }
   ],
   "source": [
    "y"
   ]
  },
  {
   "cell_type": "code",
   "execution_count": 8,
   "metadata": {},
   "outputs": [],
   "source": [
    "#create column transformer with 3 types of transformers\n",
    "num_feature = x.select_dtypes(exclude=\"object\").columns\n",
    "cat_feature = x.select_dtypes(include=\"object\").columns\n",
    "\n",
    "from sklearn.preprocessing import OneHotEncoder, StandardScaler\n",
    "from sklearn.compose import ColumnTransformer\n",
    "\n",
    "numeric_transformer = StandardScaler()\n",
    "categorical_transformer = OneHotEncoder()\n",
    "\n",
    "preprocessor = ColumnTransformer(\n",
    "    [\n",
    "        (\"OneHotEncoder\", categorical_transformer,cat_feature),\n",
    "        (\"StandardScaler\", numeric_transformer,num_feature)\n",
    "    ]\n",
    ")"
   ]
  },
  {
   "cell_type": "code",
   "execution_count": 9,
   "metadata": {},
   "outputs": [],
   "source": [
    "x = preprocessor.fit_transform(x)"
   ]
  },
  {
   "cell_type": "code",
   "execution_count": 10,
   "metadata": {},
   "outputs": [
    {
     "data": {
      "text/plain": [
       "array([[ 1.        ,  0.        ,  0.        , ...,  1.        ,\n",
       "         0.19399858,  0.39149181],\n",
       "       [ 1.        ,  0.        ,  0.        , ...,  0.        ,\n",
       "         1.42747598,  1.31326868],\n",
       "       [ 1.        ,  0.        ,  0.        , ...,  1.        ,\n",
       "         1.77010859,  1.64247471],\n",
       "       ...,\n",
       "       [ 1.        ,  0.        ,  0.        , ...,  0.        ,\n",
       "         0.12547206, -0.20107904],\n",
       "       [ 1.        ,  0.        ,  0.        , ...,  0.        ,\n",
       "         0.60515772,  0.58901542],\n",
       "       [ 1.        ,  0.        ,  0.        , ...,  1.        ,\n",
       "         1.15336989,  1.18158627]])"
      ]
     },
     "execution_count": 10,
     "metadata": {},
     "output_type": "execute_result"
    }
   ],
   "source": [
    "x"
   ]
  },
  {
   "cell_type": "code",
   "execution_count": 11,
   "metadata": {},
   "outputs": [
    {
     "data": {
      "text/plain": [
       "((800, 19), (200, 19))"
      ]
     },
     "execution_count": 11,
     "metadata": {},
     "output_type": "execute_result"
    }
   ],
   "source": [
    "from sklearn.model_selection import train_test_split\n",
    "x_train,x_test,y_train,y_test = train_test_split(x,y,test_size=0.2,random_state=42)\n",
    "x_train.shape,x_test.shape"
   ]
  },
  {
   "cell_type": "code",
   "execution_count": 25,
   "metadata": {},
   "outputs": [],
   "source": [
    "scores = []"
   ]
  },
  {
   "cell_type": "code",
   "execution_count": 14,
   "metadata": {},
   "outputs": [
    {
     "name": "stdout",
     "output_type": "stream",
     "text": [
      "MSE: 29.16963975906372\n",
      "r2_score_train 0.8742015264255842\n",
      "r2_score_test 0.8801272640936912\n",
      "Cross validation score 0.8674428543839353\n"
     ]
    }
   ],
   "source": [
    "from sklearn.linear_model import LinearRegression\n",
    "from sklearn.metrics import mean_squared_error, r2_score\n",
    "from sklearn.model_selection import cross_val_score\n",
    "\n",
    "linear_model = LinearRegression()\n",
    "linear_model.fit(x_train,y_train)\n",
    "y_pred_train = linear_model.predict(x_train)\n",
    "y_pred_test = linear_model.predict(x_test)\n",
    "\n",
    "mse = mean_squared_error(y_test,y_pred_test)\n",
    "r2_train = r2_score(y_train,y_pred_train)\n",
    "r2_test = r2_score(y_test,y_pred_test)\n",
    "cv = cross_val_score(linear_model,x_train,y_train, cv=5, scoring='r2')\n",
    "print(\"MSE:\", mse)\n",
    "print(\"r2_score_train\", r2_train)\n",
    "print(\"r2_score_test\", r2_test)\n",
    "print(\"Cross validation score\", cv.mean())\n"
   ]
  },
  {
   "cell_type": "code",
   "execution_count": 15,
   "metadata": {},
   "outputs": [
    {
     "name": "stdout",
     "output_type": "stream",
     "text": [
      "Best Params for Lasso Regression: {'alpha': 1}\n",
      "MSE:  42.5064168384116\n",
      "r2_score_train:  0.8071462015863458\n",
      "r2_score_test:  0.8253197323627853\n",
      "Cross Validation Score:  0.8053004206940638\n"
     ]
    }
   ],
   "source": [
    "from sklearn.linear_model import Lasso\n",
    "from sklearn.model_selection import GridSearchCV\n",
    "\n",
    "estimator = Lasso()\n",
    "paramgrid = {'alpha': list(range(1,100))}\n",
    "grid_search_lasso = GridSearchCV(estimator, paramgrid, cv=5, scoring='r2')\n",
    "grid_search_lasso.fit(x_train,y_train)\n",
    "lasso_model = grid_search_lasso.best_estimator_\n",
    "\n",
    "y_pred_train = lasso_model.predict(x_train)\n",
    "y_pred_test = lasso_model.predict(x_test)\n",
    "\n",
    "mse = mean_squared_error(y_test,y_pred_test)\n",
    "r2_train = r2_score(y_train,y_pred_train)\n",
    "r2_test = r2_score(y_test,y_pred_test)\n",
    "cv = cross_val_score(lasso_model,x_train,y_train, cv=5, scoring='r2')\n",
    "\n",
    "print('Best Params for Lasso Regression:', grid_search_lasso.best_params_)\n",
    "print('MSE: ', mse)\n",
    "print('r2_score_train: ', r2_train)\n",
    "print('r2_score_test: ', r2_test)\n",
    "print('Cross Validation Score: ', cv.mean())\n"
   ]
  },
  {
   "cell_type": "code",
   "execution_count": 16,
   "metadata": {},
   "outputs": [
    {
     "name": "stdout",
     "output_type": "stream",
     "text": [
      "Best param for Ridge: {'alpha': 1}\n",
      "MSE:  29.05627219234824\n",
      "r2_score_train:  0.8743042615212909\n",
      "r2_score_test:  0.8805931485028741\n",
      "Cross Validation Score:  0.8686068301347676\n"
     ]
    }
   ],
   "source": [
    "from sklearn.linear_model import Ridge\n",
    "\n",
    "estimator = Ridge()\n",
    "paramgrid = {'alpha': list(range(1,100))}\n",
    "grid_search_ridge = GridSearchCV(estimator,paramgrid,cv=5, scoring='r2')\n",
    "grid_search_ridge.fit(x_train,y_train)\n",
    "ridge_model = grid_search_ridge.best_estimator_\n",
    "\n",
    "y_pred_train = ridge_model.predict(x_train)\n",
    "y_pred_test = ridge_model.predict(x_test)\n",
    "mse = mean_squared_error(y_test,y_pred_test)\n",
    "r2_train = r2_score(y_train,y_pred_train)\n",
    "r2_test = r2_score(y_test,y_pred_test)\n",
    "cv = cross_val_score(ridge_model,x_train,y_train,cv=5, scoring='r2')\n",
    "\n",
    "print('Best param for Ridge:', grid_search_ridge.best_params_)\n",
    "print('MSE: ', mse)\n",
    "print('r2_score_train: ', r2_train)\n",
    "print('r2_score_test: ', r2_test)\n",
    "print('Cross Validation Score: ', cv.mean())\n"
   ]
  },
  {
   "cell_type": "code",
   "execution_count": 17,
   "metadata": {},
   "outputs": [
    {
     "name": "stdout",
     "output_type": "stream",
     "text": [
      "Best params for KNN Regressor:  {'n_neighbors': 13}\n",
      "MSE:  49.81278106508876\n",
      "r2_score_train:  0.8300408135294195\n",
      "r2_score_test:  0.7952942031956782\n",
      "Cross Validation Score:  0.7969368970726628\n"
     ]
    }
   ],
   "source": [
    "from sklearn.neighbors import KNeighborsRegressor\n",
    "\n",
    "estimator = KNeighborsRegressor()\n",
    "param_grid = {'n_neighbors': list(range(1,100))}\n",
    "grid_search_knn = GridSearchCV(estimator, param_grid, cv=5, scoring='r2')\n",
    "grid_search_knn.fit(x_train, y_train)\n",
    "knn_model = grid_search_knn.best_estimator_\n",
    "\n",
    "y_pred_train =knn_model.predict(x_train)\n",
    "y_pred_test =knn_model.predict(x_test)\n",
    "mse = mean_squared_error(y_test, y_pred_test)\n",
    "r2_train = r2_score(y_train, y_pred_train)\n",
    "r2_test = r2_score(y_test, y_pred_test)\n",
    "cv = cross_val_score(knn_model, x_train, y_train, cv=5, scoring='r2')\n",
    "\n",
    "print('Best params for KNN Regressor: ', grid_search_knn.best_params_)\n",
    "print('MSE: ', mse)\n",
    "print('r2_score_train: ', r2_train)\n",
    "print('r2_score_test: ', r2_test)\n",
    "print('Cross Validation Score: ', cv.mean())"
   ]
  },
  {
   "cell_type": "code",
   "execution_count": 18,
   "metadata": {},
   "outputs": [
    {
     "name": "stdout",
     "output_type": "stream",
     "text": [
      "Best params for DecisionTree Regressor:  {'criterion': 'squared_error', 'max_depth': 5}\n",
      "MSE:  42.77161032657878\n",
      "r2_score_train:  0.8550110711822139\n",
      "r2_score_test:  0.8242299188020519\n",
      "Cross Validation Score:  0.7890606369903265\n"
     ]
    }
   ],
   "source": [
    "from sklearn.tree import DecisionTreeRegressor\n",
    "\n",
    "estimator = DecisionTreeRegressor(random_state=42)\n",
    "paramgrid = {'max_depth': list(range(1,10)), 'criterion': ['squared_error', 'absolute_error'] }\n",
    "grid_search_decision = GridSearchCV(estimator, paramgrid, cv=5, scoring='r2')\n",
    "grid_search_decision.fit(x_train, y_train)\n",
    "decisiontree_model = grid_search_decision.best_estimator_\n",
    "\n",
    "y_pred_train = decisiontree_model.predict(x_train)\n",
    "y_pred_test = decisiontree_model.predict(x_test)\n",
    "mse = mean_squared_error(y_test, y_pred_test)\n",
    "r2_train = r2_score(y_train, y_pred_train)\n",
    "r2_test = r2_score(y_test, y_pred_test)\n",
    "cv = cross_val_score(decisiontree_model, x_train, y_train, cv=5, scoring='r2')\n",
    "\n",
    "print('Best params for DecisionTree Regressor: ', grid_search_decision.best_params_)\n",
    "print('MSE: ', mse)\n",
    "print('r2_score_train: ', r2_train)\n",
    "print('r2_score_test: ', r2_test)\n",
    "print('Cross Validation Score: ', cv.mean())"
   ]
  },
  {
   "cell_type": "code",
   "execution_count": 19,
   "metadata": {},
   "outputs": [
    {
     "name": "stdout",
     "output_type": "stream",
     "text": [
      "Best params for RandomForest Regressor:  {'criterion': 'squared_error', 'max_depth': 6, 'n_estimators': 9}\n",
      "MSE:  35.04269454496535\n",
      "r2_score_train:  0.8959197588539927\n",
      "r2_score_test:  0.85599192505184\n",
      "Cross Validation Score:  0.8242734693593883\n"
     ]
    }
   ],
   "source": [
    "from sklearn.ensemble import RandomForestRegressor\n",
    "\n",
    "estimator = RandomForestRegressor(random_state=42)\n",
    "paramgrid = {'n_estimators': list(range(1,10)),'max_depth': list(range(1,10)), 'criterion': ['squared_error', 'absolute_error']}\n",
    "grid_search_randomforest = GridSearchCV(estimator, paramgrid, cv=5, scoring='r2')\n",
    "grid_search_randomforest.fit(x_train, y_train)\n",
    "randomforest_model = grid_search_randomforest.best_estimator_\n",
    "\n",
    "y_pred_train = randomforest_model.predict(x_train)\n",
    "y_pred_test = randomforest_model.predict(x_test)\n",
    "mse = mean_squared_error(y_test, y_pred_test)\n",
    "r2_train = r2_score(y_train, y_pred_train)\n",
    "r2_test = r2_score(y_test, y_pred_test)\n",
    "cv = cross_val_score(randomforest_model, x_train, y_train, cv=5, scoring='r2')\n",
    "\n",
    "print('Best params for RandomForest Regressor: ', grid_search_randomforest.best_params_)\n",
    "print('MSE: ', mse)\n",
    "print('r2_score_train: ', r2_train)\n",
    "print('r2_score_test: ', r2_test)\n",
    "print('Cross Validation Score: ', cv.mean())"
   ]
  },
  {
   "cell_type": "code",
   "execution_count": 20,
   "metadata": {},
   "outputs": [
    {
     "name": "stdout",
     "output_type": "stream",
     "text": [
      "Best params for Adaboost Regressor:  {'learning_rate': 1.0, 'n_estimators': 9}\n",
      "MSE:  46.7869936195805\n",
      "r2_score_train:  0.8117719851875798\n",
      "r2_score_test:  0.8077286872126204\n",
      "Cross Validation Score:  0.7888607425725768\n"
     ]
    }
   ],
   "source": [
    "from sklearn.ensemble import AdaBoostRegressor\n",
    "\n",
    "estimator = AdaBoostRegressor(random_state=42)\n",
    "paramgrid = {'n_estimators': list(range(1,10)), 'learning_rate': [0.1, 0.5, 1.0]}\n",
    "grid_search_adaboost = GridSearchCV(estimator, paramgrid, cv=5, scoring='r2')\n",
    "grid_search_adaboost.fit(x_train, y_train)\n",
    "adaboost_model = grid_search_adaboost.best_estimator_\n",
    "\n",
    "y_pred_train = adaboost_model.predict(x_train)\n",
    "y_pred_test = adaboost_model.predict(x_test)\n",
    "mse = mean_squared_error(y_test, y_pred_test)\n",
    "r2_train = r2_score(y_train, y_pred_train)\n",
    "r2_test = r2_score(y_test, y_pred_test)\n",
    "cv = cross_val_score(adaboost_model, x_train, y_train, cv=5, scoring='r2')\n",
    "\n",
    "print('Best params for Adaboost Regressor: ', grid_search_adaboost.best_params_)\n",
    "print('MSE: ', mse)\n",
    "print('r2_score_train: ', r2_train)\n",
    "print('r2_score_test: ', r2_test)\n",
    "print('Cross Validation Score: ', cv.mean())"
   ]
  },
  {
   "cell_type": "code",
   "execution_count": 21,
   "metadata": {},
   "outputs": [
    {
     "name": "stdout",
     "output_type": "stream",
     "text": [
      "Best params for Gradientboost Regressor:  {'learning_rate': 0.2, 'max_depth': 1, 'n_estimators': 300}\n",
      "MSE:  29.453079320657388\n",
      "r2_score_train:  0.8812399378574954\n",
      "r2_score_test:  0.8789624682308366\n",
      "Cross Validation Score:  0.8533652430838707\n"
     ]
    }
   ],
   "source": [
    "from sklearn.ensemble import GradientBoostingRegressor\n",
    "from sklearn.model_selection import GridSearchCV\n",
    "estimator = GradientBoostingRegressor(random_state=42)\n",
    "paramgrid = {'n_estimators': [50, 100, 150, 200,250,300], 'learning_rate': [0.01, 0.05, 0.1, 0.2, 0.5,0.8,0.1], 'max_depth': list(range(1,10))}\n",
    "grid_search_gradientboost = GridSearchCV(estimator, paramgrid, cv=5, scoring='r2')\n",
    "grid_search_gradientboost.fit(x_train, y_train)\n",
    "gradientboost_model = grid_search_gradientboost.best_estimator_\n",
    "\n",
    "y_pred_train = gradientboost_model.predict(x_train)\n",
    "y_pred_test = gradientboost_model.predict(x_test)\n",
    "mse = mean_squared_error(y_test, y_pred_test)\n",
    "r2_train = r2_score(y_train, y_pred_train)\n",
    "r2_test = r2_score(y_test, y_pred_test)\n",
    "cv = cross_val_score(gradientboost_model, x_train, y_train, cv=5, scoring='r2')\n",
    "\n",
    "print('Best params for Gradientboost Regressor: ', grid_search_gradientboost.best_params_)\n",
    "print('MSE: ', mse)\n",
    "print('r2_score_train: ', r2_train)\n",
    "print('r2_score_test: ', r2_test)\n",
    "print('Cross Validation Score: ', cv.mean())"
   ]
  },
  {
   "cell_type": "code",
   "execution_count": 22,
   "metadata": {},
   "outputs": [
    {
     "name": "stdout",
     "output_type": "stream",
     "text": [
      "Best params for Xgboost Regressor:  {'gamma': 0, 'learning_rate': 0.8, 'max_depth': 1, 'n_estimators': 200}\n",
      "MSE:  31.133691391463945\n",
      "r2_score_train:  0.8860380167941636\n",
      "r2_score_test:  0.8720559870884992\n",
      "Cross Validation Score:  0.8505359287816929\n"
     ]
    }
   ],
   "source": [
    "from xgboost import XGBRegressor\n",
    "\n",
    "estimator = XGBRegressor(random_state=42)\n",
    "param_grid = {'n_estimators': [50, 100, 150, 200], 'learning_rate': [0.01, 0.05, 0.1, 0.2, 0.5,0.8,0.1], 'max_depth': list(range(1,10)), 'gamma': [0, 0.1, 0.5,1]}\n",
    "grid_search_xgboost = GridSearchCV(estimator, param_grid, cv=5, scoring='r2')\n",
    "grid_search_xgboost.fit(x_train, y_train)\n",
    "xgboost_model = grid_search_xgboost.best_estimator_\n",
    "\n",
    "y_pred_train = xgboost_model.predict(x_train)\n",
    "y_pred_test = xgboost_model.predict(x_test)\n",
    "mse = mean_squared_error(y_test, y_pred_test)\n",
    "r2_train = r2_score(y_train, y_pred_train)\n",
    "r2_test = r2_score(y_test, y_pred_test)\n",
    "cv = cross_val_score(xgboost_model, x_train, y_train, cv=5, scoring='r2')\n",
    "\n",
    "print('Best params for Xgboost Regressor: ', grid_search_xgboost.best_params_)\n",
    "print('MSE: ', mse)\n",
    "print('r2_score_train: ', r2_train)\n",
    "print('r2_score_test: ', r2_test)\n",
    "print('Cross Validation Score: ', cv.mean())"
   ]
  }
 ],
 "metadata": {
  "kernelspec": {
   "display_name": "venv",
   "language": "python",
   "name": "python3"
  },
  "language_info": {
   "codemirror_mode": {
    "name": "ipython",
    "version": 3
   },
   "file_extension": ".py",
   "mimetype": "text/x-python",
   "name": "python",
   "nbconvert_exporter": "python",
   "pygments_lexer": "ipython3",
   "version": "3.8.20"
  }
 },
 "nbformat": 4,
 "nbformat_minor": 2
}
